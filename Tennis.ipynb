{
 "cells": [
  {
   "cell_type": "markdown",
   "metadata": {},
   "source": [
    "# Collaboration and Competition\n",
    "\n",
    "---\n",
    "\n",
    "In this notebook, you will learn how to use the Unity ML-Agents environment for the third project of the [Deep Reinforcement Learning Nanodegree](https://www.udacity.com/course/deep-reinforcement-learning-nanodegree--nd893) program.\n",
    "\n",
    "### 1. Start the Environment\n",
    "\n",
    "We begin by importing the necessary packages.  If the code cell below returns an error, please revisit the project instructions to double-check that you have installed [Unity ML-Agents](https://github.com/Unity-Technologies/ml-agents/blob/master/docs/Installation.md) and [NumPy](http://www.numpy.org/)."
   ]
  },
  {
   "cell_type": "code",
   "execution_count": 1,
   "metadata": {},
   "outputs": [],
   "source": [
    "from unityagents import UnityEnvironment\n",
    "import numpy as np"
   ]
  },
  {
   "cell_type": "markdown",
   "metadata": {},
   "source": [
    "Next, we will start the environment!  **_Before running the code cell below_**, change the `file_name` parameter to match the location of the Unity environment that you downloaded.\n",
    "\n",
    "- **Mac**: `\"path/to/Tennis.app\"`\n",
    "- **Windows** (x86): `\"path/to/Tennis_Windows_x86/Tennis.exe\"`\n",
    "- **Windows** (x86_64): `\"path/to/Tennis_Windows_x86_64/Tennis.exe\"`\n",
    "- **Linux** (x86): `\"path/to/Tennis_Linux/Tennis.x86\"`\n",
    "- **Linux** (x86_64): `\"path/to/Tennis_Linux/Tennis.x86_64\"`\n",
    "- **Linux** (x86, headless): `\"path/to/Tennis_Linux_NoVis/Tennis.x86\"`\n",
    "- **Linux** (x86_64, headless): `\"path/to/Tennis_Linux_NoVis/Tennis.x86_64\"`\n",
    "\n",
    "For instance, if you are using a Mac, then you downloaded `Tennis.app`.  If this file is in the same folder as the notebook, then the line below should appear as follows:\n",
    "```\n",
    "env = UnityEnvironment(file_name=\"Tennis.app\")\n",
    "```"
   ]
  },
  {
   "cell_type": "code",
   "execution_count": 2,
   "metadata": {},
   "outputs": [],
   "source": [
    "import os"
   ]
  },
  {
   "cell_type": "code",
   "execution_count": 3,
   "metadata": {},
   "outputs": [],
   "source": [
    "path = os.path.join('Tennis_Linux', 'Tennis.x86')"
   ]
  },
  {
   "cell_type": "code",
   "execution_count": 4,
   "metadata": {},
   "outputs": [
    {
     "name": "stderr",
     "output_type": "stream",
     "text": [
      "INFO:unityagents:\n",
      "'Academy' started successfully!\n",
      "Unity Academy name: Academy\n",
      "        Number of Brains: 1\n",
      "        Number of External Brains : 1\n",
      "        Lesson number : 0\n",
      "        Reset Parameters :\n",
      "\t\t\n",
      "Unity brain name: TennisBrain\n",
      "        Number of Visual Observations (per agent): 0\n",
      "        Vector Observation space type: continuous\n",
      "        Vector Observation space size (per agent): 8\n",
      "        Number of stacked Vector Observation: 3\n",
      "        Vector Action space type: continuous\n",
      "        Vector Action space size (per agent): 2\n",
      "        Vector Action descriptions: , \n"
     ]
    }
   ],
   "source": [
    "env = UnityEnvironment(file_name=path)"
   ]
  },
  {
   "cell_type": "markdown",
   "metadata": {},
   "source": [
    "Environments contain **_brains_** which are responsible for deciding the actions of their associated agents. Here we check for the first brain available, and set it as the default brain we will be controlling from Python."
   ]
  },
  {
   "cell_type": "code",
   "execution_count": 5,
   "metadata": {},
   "outputs": [],
   "source": [
    "# get the default brain\n",
    "brain_name = env.brain_names[0]\n",
    "brain = env.brains[brain_name]"
   ]
  },
  {
   "cell_type": "markdown",
   "metadata": {},
   "source": [
    "### 2. Examine the State and Action Spaces\n",
    "\n",
    "In this environment, two agents control rackets to bounce a ball over a net. If an agent hits the ball over the net, it receives a reward of +0.1.  If an agent lets a ball hit the ground or hits the ball out of bounds, it receives a reward of -0.01.  Thus, the goal of each agent is to keep the ball in play.\n",
    "\n",
    "The observation space consists of 8 variables corresponding to the position and velocity of the ball and racket. Two continuous actions are available, corresponding to movement toward (or away from) the net, and jumping. \n",
    "\n",
    "Run the code cell below to print some information about the environment."
   ]
  },
  {
   "cell_type": "code",
   "execution_count": 6,
   "metadata": {},
   "outputs": [
    {
     "name": "stdout",
     "output_type": "stream",
     "text": [
      "Number of agents: 2\n",
      "Size of each action: 2\n",
      "There are 2 agents. Each observes a state with length: 24\n",
      "The state for the first agent looks like: [ 0.          0.          0.          0.          0.          0.\n",
      "  0.          0.          0.          0.          0.          0.\n",
      "  0.          0.          0.          0.         -6.65278625 -1.5\n",
      " -0.          0.          6.83172083  6.         -0.          0.        ]\n"
     ]
    }
   ],
   "source": [
    "# # reset the environment\n",
    "# env_info = env.reset(train_mode=True)[brain_name]\n",
    "\n",
    "# # number of agents \n",
    "# num_agents = len(env_info.agents)\n",
    "# print('Number of agents:', num_agents)\n",
    "\n",
    "# # size of each action\n",
    "# action_size = brain.vector_action_space_size\n",
    "# print('Size of each action:', action_size)\n",
    "\n",
    "# # examine the state space \n",
    "# states = env_info.vector_observations\n",
    "# state_size = states.shape[1]\n",
    "# print('There are {} agents. Each observes a state with length: {}'.format(states.shape[0], state_size))\n",
    "# print('The state for the first agent looks like:', states[0])"
   ]
  },
  {
   "cell_type": "markdown",
   "metadata": {},
   "source": [
    "### 3. Take Random Actions in the Environment\n",
    "\n",
    "In the next code cell, you will learn how to use the Python API to control the agents and receive feedback from the environment.\n",
    "\n",
    "Once this cell is executed, you will watch the agents' performance, if they select actions at random with each time step.  A window should pop up that allows you to observe the agents.\n",
    "\n",
    "Of course, as part of the project, you'll have to change the code so that the agents are able to use their experiences to gradually choose better actions when interacting with the environment!"
   ]
  },
  {
   "cell_type": "code",
   "execution_count": 7,
   "metadata": {},
   "outputs": [
    {
     "name": "stdout",
     "output_type": "stream",
     "text": [
      "Score (max over agents) from episode 1: 0.09000000171363354\n",
      "Score (max over agents) from episode 2: 0.0\n",
      "Score (max over agents) from episode 3: 0.0\n",
      "Score (max over agents) from episode 4: 0.0\n",
      "Score (max over agents) from episode 5: 0.0\n"
     ]
    }
   ],
   "source": [
    "# for i in range(1, 6):                                      # play game for 5 episodes\n",
    "#     env_info = env.reset(train_mode=False)[brain_name]     # reset the environment    \n",
    "#     states = env_info.vector_observations                  # get the current state (for each agent)\n",
    "#     scores = np.zeros(num_agents)                          # initialize the score (for each agent)\n",
    "#     while True:\n",
    "#         actions = np.random.randn(num_agents, action_size) # select an action (for each agent)\n",
    "#         actions = np.clip(actions, -1, 1)                  # all actions between -1 and 1\n",
    "#         env_info = env.step(actions)[brain_name]           # send all actions to tne environment\n",
    "#         next_states = env_info.vector_observations         # get next state (for each agent)\n",
    "#         rewards = env_info.rewards                         # get reward (for each agent)\n",
    "#         dones = env_info.local_done                        # see if episode finished\n",
    "#         scores += env_info.rewards                         # update the score (for each agent)\n",
    "#         states = next_states                               # roll over states to next time step\n",
    "#         if np.any(dones):                                  # exit loop if episode finished\n",
    "#             break\n",
    "#     print('Score (max over agents) from episode {}: {}'.format(i, np.max(scores)))"
   ]
  },
  {
   "cell_type": "code",
   "execution_count": 8,
   "metadata": {},
   "outputs": [],
   "source": [
    "# env.close()"
   ]
  },
  {
   "cell_type": "markdown",
   "metadata": {},
   "source": [
    "### 4. It's Your Turn!\n",
    "\n",
    "Now it's your turn to train your own agent to solve the environment!  When training the environment, set `train_mode=True`, so that the line for resetting the environment looks like the following:\n",
    "```python\n",
    "env_info = env.reset(train_mode=True)[brain_name]\n",
    "```"
   ]
  },
  {
   "cell_type": "code",
   "execution_count": 6,
   "metadata": {},
   "outputs": [],
   "source": [
    "from DeepRL.deep_rl.network import *\n",
    "from DeepRL.deep_rl.component import *\n",
    "from DeepRL.deep_rl.agent.BaseAgent import *\n",
    "import torchvision\n"
   ]
  },
  {
   "cell_type": "code",
   "execution_count": 7,
   "metadata": {},
   "outputs": [],
   "source": [
    "num_agents = 1"
   ]
  },
  {
   "cell_type": "code",
   "execution_count": 8,
   "metadata": {},
   "outputs": [],
   "source": [
    "\n",
    "class DDPGAgent:\n",
    "    def __init__(self):\n",
    "        self.max_steps = int(1e6)\n",
    "        self.eval_interval = int(1e4)\n",
    "        self.eval_episodes = 20\n",
    "        \n",
    "        state_dim = 24\n",
    "        action_dim = 2\n",
    "        self.action_dim = action_dim\n",
    "\n",
    "        self.network_fn = lambda: DeterministicActorCriticNet(\n",
    "            state_dim, action_dim,\n",
    "            actor_body=FCBody(state_dim, (50, 50, 50, 50, 50, 20), gate=F.relu),\n",
    "            critic_body=FCBody(2*state_dim + action_dim, (100, 50, 50, 50, 50, 50, 20), gate=F.relu),\n",
    "            actor_opt_fn=lambda params: torch.optim.Adam(params, lr=1e-3),\n",
    "            critic_opt_fn=lambda params: torch.optim.Adam(params, lr=1e-3))\n",
    "\n",
    "        self.replay_fn = lambda: UniformReplay(memory_size=int(1e6), batch_size=128)\n",
    "        self.discount = 0.99\n",
    "        self.random_process_fn = lambda: OrnsteinUhlenbeckProcess(\n",
    "            size=(action_dim,), std=LinearSchedule(0.1))\n",
    "        \n",
    "        self.warm_up = int(1e4)\n",
    "        \n",
    "        self.target_network_mix = 5e-3\n",
    "    \n",
    "        self.network = self.network_fn()\n",
    "        self.target_network = self.network_fn()\n",
    "        self.target_network.load_state_dict(self.network.state_dict())\n",
    "        \n",
    "        self.replay = self.replay_fn()\n",
    "        \n",
    "        self.random_process = self.random_process_fn()\n",
    "        self.random_process.reset_states()\n",
    "        \n",
    "        self.total_steps = 0\n",
    "        self.state = None\n",
    "        \n",
    "        self.state_normalizer = lambda x: x\n",
    "        \n",
    "        self.device = \"cpu\" # torch.device(\"cuda:0\" if torch.cuda.is_available() else \"cpu\")\n",
    "        \n",
    "        self.t_step = 0\n",
    "        \n",
    "        self.UPDATE_EVERY = 10\n",
    "        \n",
    "        self.models = {'network_actor': self.network.actor_body,\n",
    "                       'network_critic': self.network.critic_body,\n",
    "                       'target_actor': self.target_network.actor_body,\n",
    "                       'target_critic': self.target_network.critic_body,\n",
    "                       'fc_action': self.network.fc_action,\n",
    "                       'fc_critic': self.network.fc_critic,\n",
    "                       'target_fc_action': self.target_network.fc_action,\n",
    "                       'target_fc_action': self.target_network.fc_action,\n",
    "                       'network_phi': self.network.phi_body,\n",
    "                       'target_network_phi': self.target_network.phi_body}\n",
    "\n",
    "    def soft_update(self, target, src):\n",
    "        for target_param, param in zip(target.parameters(), src.parameters()):\n",
    "            target_param.detach_()\n",
    "            target_param.copy_(target_param * (1.0 - self.target_network_mix) +\n",
    "                               param * self.target_network_mix)\n",
    "            \n",
    "    def save(self, model_nm):\n",
    "        path = os.sep.join(['.', 'model_weights', model_nm])\n",
    "        if not os.path.exists(path):\n",
    "            os.makedirs(path)\n",
    "            \n",
    "        for nm, model in self.models.items():\n",
    "            weights = model.state_dict()\n",
    "            torch.save(weights, os.sep.join([path, nm]))\n",
    "\n",
    "    def load(self, model_nm):\n",
    "        path = os.sep.join(['.', 'model_weights', model_nm])\n",
    "            \n",
    "        for nm, model in self.models.items():\n",
    "            state_dict = torch.load(os.sep.join([path, nm]))\n",
    "            model.load_state_dict(state_dict)\n",
    "            \n",
    "    def act(self, state):\n",
    "        state = torch.from_numpy(state).float().to(self.device)\n",
    "        \n",
    "        if self.total_steps < self.warm_up:\n",
    "            action = np.random.rand(self.action_dim*num_agents).reshape(-1, self.action_dim)\n",
    "        else:\n",
    "            action = self.network(state)\n",
    "            action = to_np(action)\n",
    "            action += self.random_process.sample()\n",
    "            \n",
    "        #Not needed, we will use tanh activation\n",
    "        #action = np.clip(action, -1, 1)\n",
    "        \n",
    "        self.total_steps += 1\n",
    "        \n",
    "        return action\n",
    "        \n",
    "    def eval_step(self, state):\n",
    "        state = self.state_normalizer(state)\n",
    "        action = self.network(state)\n",
    "        return to_np(action)\n",
    "\n",
    "    def step(self, state, colleague_state, action, reward, next_state, next_colleague_state, done):\n",
    "\n",
    "        self.replay.feed(dict(\n",
    "            state=state,\n",
    "            colleague_state=colleague_state,\n",
    "            action=action,\n",
    "            reward=reward,\n",
    "            next_state=next_state,\n",
    "            next_colleague_state=next_colleague_state,\n",
    "            mask=1-np.asarray(done, dtype=np.int32),\n",
    "        ))\n",
    "\n",
    "#         if done:\n",
    "#             self.random_process.reset_states()\n",
    "\n",
    "        # Learn every UPDATE_EVERY time steps.\n",
    "        self.t_step = (self.t_step + 1) % self.UPDATE_EVERY\n",
    "        \n",
    "        if (self.t_step == 0) and (self.replay.size() >= self.warm_up):\n",
    "            self.learn()\n",
    "        \n",
    "    def learn(self):\n",
    "        transitions = self.replay.sample()\n",
    "        states = tensor(transitions.state)\n",
    "        colleague_states = tensor(transitions.colleague_state)\n",
    "        actions = tensor(transitions.action)\n",
    "        rewards = tensor(transitions.reward).unsqueeze(-1)\n",
    "        next_states = tensor(transitions.next_state)\n",
    "        next_colleague_states = tensor(transitions.next_colleague_state)\n",
    "        mask = tensor(transitions.mask).unsqueeze(-1)\n",
    "\n",
    "        phi_next = self.target_network.feature(next_states)\n",
    "        phi_next_colleague = self.target_network.feature(next_colleague_states)\n",
    "        \n",
    "        a_next = self.target_network.actor(phi_next)\n",
    "        q_next = self.target_network.critic(phi_next, phi_next_colleague, a_next)\n",
    "        q_next = self.discount * mask * q_next\n",
    "        q_next.add_(rewards)\n",
    "        q_next = q_next.detach()\n",
    "        phi = self.network.feature(states)\n",
    "        phi_colleague = self.network.feature(colleague_states)\n",
    "        q = self.network.critic(phi, phi_colleague, actions)\n",
    "        critic_loss = (q - q_next).pow(2).mul(0.5).sum(-1).mean()\n",
    "\n",
    "        self.network.zero_grad()\n",
    "        critic_loss.backward()\n",
    "        torch.nn.utils.clip_grad_norm_(self.network.critic_params, 1)\n",
    "        self.network.critic_opt.step()\n",
    "        \n",
    "        phi = self.network.feature(states)\n",
    "        phi_colleague = self.network.feature(colleague_states)\n",
    "        action = self.network.actor(phi)\n",
    "        policy_loss = -self.network.critic(phi.detach(), phi_colleague.detach(), action).mean()\n",
    "\n",
    "        self.network.zero_grad()\n",
    "        policy_loss.backward()\n",
    "        torch.nn.utils.clip_grad_norm_(self.network.actor_params, 1)\n",
    "        self.network.actor_opt.step()\n",
    "\n",
    "        self.soft_update(self.target_network, self.network)"
   ]
  },
  {
   "cell_type": "code",
   "execution_count": 9,
   "metadata": {},
   "outputs": [],
   "source": [
    "n_episodes=10000000\n",
    "max_t=10000"
   ]
  },
  {
   "cell_type": "markdown",
   "metadata": {},
   "source": [
    "#### State standardization\n",
    "I accumulated samples in the replay buffer and then just got empirical mean and max. absolute values around that mean."
   ]
  },
  {
   "cell_type": "code",
   "execution_count": 10,
   "metadata": {},
   "outputs": [],
   "source": [
    "mean_state = np.array([-4.80006529e+00,  1.36604393e-02,  5.99677352e+00,  8.16729930e-01,\n",
    "       -6.04321677e-02,  2.99387520e+00,  5.99677352e+00,  8.16729930e-01,\n",
    "       -5.07671490e+00,  6.29919302e-03,  6.35296714e+00,  5.96779433e-01,\n",
    "       -6.25882435e-02,  2.88864339e+00,  6.35296714e+00,  5.96779433e-01,\n",
    "       -5.37267477e+00, -3.38142435e-02,  6.99621777e+00,  3.08744504e-01,\n",
    "       -8.68654266e-02,  2.74919914e+00,  6.99621777e+00,  3.08744504e-01])\n",
    "\n",
    "maxi_state = np.array([ 6.66741537,  1.86601985, 35.99677352, 11.28007832, 11.70666   ,\n",
    "        4.74047845, 35.99677352, 11.28007832,  6.39904747,  1.85865861,\n",
    "       36.35296714, 11.06012782, 11.75664762,  5.11374653, 36.35296714,\n",
    "       11.06012782,  6.10549468,  1.81854517, 36.99621777, 10.77209289,\n",
    "       11.89764881,  5.63183807, 36.99621777, 10.77209289])"
   ]
  },
  {
   "cell_type": "code",
   "execution_count": 15,
   "metadata": {
    "scrolled": true
   },
   "outputs": [
    {
     "name": "stdout",
     "output_type": "stream",
     "text": [
      "Episode 100\tAverage Score: 0.00\n",
      "Episode 200\tAverage Score: 0.00\n",
      "Episode 300\tAverage Score: 0.00\n",
      "Episode 400\tAverage Score: 0.00\n",
      "Episode 500\tAverage Score: 0.01\n",
      "Episode 600\tAverage Score: 0.06\n",
      "Episode 700\tAverage Score: 0.01\n",
      "Episode 800\tAverage Score: 0.03\n",
      "Episode 900\tAverage Score: 0.01\n",
      "Episode 1000\tAverage Score: 0.01\n",
      "Episode 1100\tAverage Score: 0.00\n",
      "Episode 1200\tAverage Score: 0.01\n",
      "Episode 1300\tAverage Score: 0.00\n",
      "Episode 1400\tAverage Score: 0.03\n",
      "Episode 1500\tAverage Score: 0.01\n",
      "Episode 1600\tAverage Score: 0.01\n",
      "Episode 1700\tAverage Score: 0.08\n",
      "Episode 1800\tAverage Score: 0.11\n",
      "Episode 1900\tAverage Score: 0.10\n",
      "Episode 2000\tAverage Score: 0.10\n",
      "Episode 2100\tAverage Score: 0.10\n",
      "Episode 2200\tAverage Score: 0.15\n",
      "Episode 2300\tAverage Score: 0.15\n",
      "Episode 2400\tAverage Score: 0.17\n",
      "Episode 2500\tAverage Score: 0.17\n",
      "Episode 2600\tAverage Score: 0.23\n",
      "Episode 2700\tAverage Score: 0.26\n",
      "Episode 2800\tAverage Score: 0.14\n",
      "Episode 2900\tAverage Score: 0.22\n",
      "Episode 3000\tAverage Score: 0.18\n",
      "Episode 3100\tAverage Score: 0.28\n",
      "Episode 3200\tAverage Score: 0.61\n",
      "Episode 3300\tAverage Score: 1.31\n",
      "Episode 3400\tAverage Score: 1.55\n",
      "Episode 3500\tAverage Score: 1.42\n",
      "Episode 3600\tAverage Score: 1.54\n",
      "Episode 3700\tAverage Score: 1.32\n",
      "Episode 3800\tAverage Score: 1.44\n",
      "Episode 3900\tAverage Score: 1.52\n",
      "Episode 4000\tAverage Score: 1.03\n",
      "Episode 4100\tAverage Score: 0.42\n",
      "Episode 4200\tAverage Score: 0.51\n",
      "Episode 4300\tAverage Score: 2.00\n",
      "Episode 4302\tAverage Score: 2.02\n",
      "Environment solved in 4202 episodes!\tAverage Score: 2.02\n"
     ]
    }
   ],
   "source": [
    "from collections import deque\n",
    "scores_l = []  # list containing scores from each episode\n",
    "scores_window = deque(maxlen=100)  # last 100 scores\n",
    "best_score = 0\n",
    "agent = DDPGAgent()\n",
    "\n",
    "for i_episode in range(1, n_episodes + 1):\n",
    "    env_info = env.reset(train_mode=True)[brain_name]      # reset the environment   \n",
    "    states = (env_info.vector_observations - mean_state) / maxi_state            # get the current state (for each agent)\n",
    "    state_left = states[:1]\n",
    "    state_right = states[1:]\n",
    "    scores_left = 0\n",
    "    scores_right = 0\n",
    "\n",
    "    agent.random_process.reset_states() # should this really be restarted every episode?\n",
    "\n",
    "    while True:\n",
    "        #actions = np.random.randn(num_agents, action_size) # select an action (for each agent)\n",
    "        action_left = agent.act(state_left)                # all actions between -1 and 1\n",
    "        action_right = agent.act(state_right)\n",
    "        actions = np.vstack([action_left, action_right])\n",
    "        env_info = env.step(actions)[brain_name]           # send all actions to tne environment\n",
    "        next_states = (env_info.vector_observations - mean_state) / maxi_state      # get next state (for each agent)\n",
    "        next_state_left = next_states[:1]\n",
    "        next_state_right = next_states[1:] #* sign\n",
    "        rewards = env_info.rewards                         # get reward (for each agent)\n",
    "        rewards_left = rewards[:1]\n",
    "        rewards_right = rewards[1:]\n",
    "        dones = env_info.local_done                        # see if episode finished\n",
    "        dones_left = dones[:1]\n",
    "        dones_right = dones[1:]\n",
    "        scores_left += rewards_left[0]\n",
    "        scores_right += rewards_right[0]                     # update the score (for each agent)\n",
    "        agent.step(state_left, state_right, action_left, rewards_left+rewards_right, next_state_left, next_state_right, dones_left)\n",
    "        agent.step(state_right, state_left, action_right, rewards_right+rewards_left, next_state_right, next_state_left, dones_right)\n",
    "        states = next_states                               # roll over states to next time step\n",
    "        state_left = states[:1]\n",
    "        state_right = states[1:]\n",
    "        if np.any(dones):                                  # exit loop if episode finished\n",
    "            break\n",
    "\n",
    "    scores_window.append(max(scores_left, scores_right))  # save most recent score\n",
    "    scores_l.append(max(scores_left, scores_right))  # save most recent score\n",
    "\n",
    "    rolling_score = np.mean(scores_window)\n",
    "    if (rolling_score > 0.5) & (rolling_score > best_score):\n",
    "        best_score = rolling_score\n",
    "        agent.save('better_model')\n",
    "        \n",
    "    print('\\rEpisode {}\\tAverage Score: {:.2f}'.format(i_episode,\n",
    "                                                   rolling_score),\n",
    "                                                  end=\"\")\n",
    "    if i_episode % 100 == 0:\n",
    "        print('\\rEpisode {}\\tAverage Score: {:.2f}'.format(i_episode, np.mean(scores_window)))\n",
    "    if np.mean(scores_window) >= 2:\n",
    "        print(\n",
    "        '\\nEnvironment solved in {:d} episodes!\\tAverage Score: {:.2f}'.format(\n",
    "          i_episode - 100, np.mean(scores_window)))\n",
    "        agent.save('successfull_model')\n",
    "        break"
   ]
  },
  {
   "cell_type": "code",
   "execution_count": 19,
   "metadata": {},
   "outputs": [
    {
     "data": {
      "image/png": "[encoded data removed]",
      "text/plain": [
       "<Figure size 432x288 with 1 Axes>"
      ]
     },
     "metadata": {
      "needs_background": "light"
     },
     "output_type": "display_data"
    }
   ],
   "source": [
    "# plot the scores\n",
    "import matplotlib.pyplot as plt\n",
    "fig = plt.figure()\n",
    "ax = fig.add_subplot(111)\n",
    "plt.plot(np.arange(len(scores_l)), scores_l)\n",
    "plt.ylabel('Score')\n",
    "plt.xlabel('Episode #')\n",
    "plt.show()"
   ]
  },
  {
   "cell_type": "code",
   "execution_count": 51,
   "metadata": {},
   "outputs": [],
   "source": [
    "env.close()"
   ]
  }
 ],
 "metadata": {
  "kernelspec": {
   "display_name": "Python 3",
   "language": "python",
   "name": "python3"
  },
  "language_info": {
   "codemirror_mode": {
    "name": "ipython",
    "version": 3
   },
   "file_extension": ".py",
   "mimetype": "text/x-python",
   "name": "python",
   "nbconvert_exporter": "python",
   "pygments_lexer": "ipython3",
   "version": "3.6.13"
  }
 },
 "nbformat": 4,
 "nbformat_minor": 2
}
