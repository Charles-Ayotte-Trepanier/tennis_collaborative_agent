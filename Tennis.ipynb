{
 "cells": [
  {
   "cell_type": "markdown",
   "metadata": {},
   "source": [
    "# Collaboration and Competition\n",
    "\n",
    "---\n",
    "\n",
    "In this notebook, you will learn how to use the Unity ML-Agents environment for the third project of the [Deep Reinforcement Learning Nanodegree](https://www.udacity.com/course/deep-reinforcement-learning-nanodegree--nd893) program.\n",
    "\n",
    "### 1. Start the Environment\n",
    "\n",
    "We begin by importing the necessary packages.  If the code cell below returns an error, please revisit the project instructions to double-check that you have installed [Unity ML-Agents](https://github.com/Unity-Technologies/ml-agents/blob/master/docs/Installation.md) and [NumPy](http://www.numpy.org/)."
   ]
  },
  {
   "cell_type": "code",
   "execution_count": 1,
   "metadata": {},
   "outputs": [],
   "source": [
    "import torch\n",
    "from unityagents import UnityEnvironment\n",
    "import numpy as np"
   ]
  },
  {
   "cell_type": "markdown",
   "metadata": {},
   "source": [
    "Next, we will start the environment!  **_Before running the code cell below_**, change the `file_name` parameter to match the location of the Unity environment that you downloaded.\n",
    "\n",
    "- **Mac**: `\"path/to/Tennis.app\"`\n",
    "- **Windows** (x86): `\"path/to/Tennis_Windows_x86/Tennis.exe\"`\n",
    "- **Windows** (x86_64): `\"path/to/Tennis_Windows_x86_64/Tennis.exe\"`\n",
    "- **Linux** (x86): `\"path/to/Tennis_Linux/Tennis.x86\"`\n",
    "- **Linux** (x86_64): `\"path/to/Tennis_Linux/Tennis.x86_64\"`\n",
    "- **Linux** (x86, headless): `\"path/to/Tennis_Linux_NoVis/Tennis.x86\"`\n",
    "- **Linux** (x86_64, headless): `\"path/to/Tennis_Linux_NoVis/Tennis.x86_64\"`\n",
    "\n",
    "For instance, if you are using a Mac, then you downloaded `Tennis.app`.  If this file is in the same folder as the notebook, then the line below should appear as follows:\n",
    "```\n",
    "env = UnityEnvironment(file_name=\"Tennis.app\")\n",
    "```"
   ]
  },
  {
   "cell_type": "code",
   "execution_count": 2,
   "metadata": {},
   "outputs": [],
   "source": [
    "import os"
   ]
  },
  {
   "cell_type": "code",
   "execution_count": 3,
   "metadata": {},
   "outputs": [],
   "source": [
    "path = os.path.join('Tennis_Linux', 'Tennis.x86')"
   ]
  },
  {
   "cell_type": "code",
   "execution_count": 4,
   "metadata": {},
   "outputs": [
    {
     "name": "stderr",
     "output_type": "stream",
     "text": [
      "INFO:unityagents:\n",
      "'Academy' started successfully!\n",
      "Unity Academy name: Academy\n",
      "        Number of Brains: 1\n",
      "        Number of External Brains : 1\n",
      "        Lesson number : 0\n",
      "        Reset Parameters :\n",
      "\t\t\n",
      "Unity brain name: TennisBrain\n",
      "        Number of Visual Observations (per agent): 0\n",
      "        Vector Observation space type: continuous\n",
      "        Vector Observation space size (per agent): 8\n",
      "        Number of stacked Vector Observation: 3\n",
      "        Vector Action space type: continuous\n",
      "        Vector Action space size (per agent): 2\n",
      "        Vector Action descriptions: , \n"
     ]
    }
   ],
   "source": [
    "env = UnityEnvironment(file_name=path)"
   ]
  },
  {
   "cell_type": "markdown",
   "metadata": {},
   "source": [
    "Environments contain **_brains_** which are responsible for deciding the actions of their associated agents. Here we check for the first brain available, and set it as the default brain we will be controlling from Python."
   ]
  },
  {
   "cell_type": "code",
   "execution_count": 5,
   "metadata": {},
   "outputs": [],
   "source": [
    "# get the default brain\n",
    "brain_name = env.brain_names[0]\n",
    "brain = env.brains[brain_name]"
   ]
  },
  {
   "cell_type": "markdown",
   "metadata": {},
   "source": [
    "### 2. Examine the State and Action Spaces\n",
    "\n",
    "In this environment, two agents control rackets to bounce a ball over a net. If an agent hits the ball over the net, it receives a reward of +0.1.  If an agent lets a ball hit the ground or hits the ball out of bounds, it receives a reward of -0.01.  Thus, the goal of each agent is to keep the ball in play.\n",
    "\n",
    "The observation space consists of 8 variables corresponding to the position and velocity of the ball and racket. Two continuous actions are available, corresponding to movement toward (or away from) the net, and jumping. \n",
    "\n",
    "Run the code cell below to print some information about the environment."
   ]
  },
  {
   "cell_type": "code",
   "execution_count": 6,
   "metadata": {},
   "outputs": [],
   "source": [
    "# # reset the environment\n",
    "# env_info = env.reset(train_mode=True)[brain_name]\n",
    "\n",
    "# # number of agents \n",
    "# num_agents = len(env_info.agents)\n",
    "# print('Number of agents:', num_agents)\n",
    "\n",
    "# # size of each action\n",
    "# action_size = brain.vector_action_space_size\n",
    "# print('Size of each action:', action_size)\n",
    "\n",
    "# # examine the state space \n",
    "# states = env_info.vector_observations\n",
    "# state_size = states.shape[1]\n",
    "# print('There are {} agents. Each observes a state with length: {}'.format(states.shape[0], state_size))\n",
    "# print('The state for the first agent looks like:', states[0])"
   ]
  },
  {
   "cell_type": "markdown",
   "metadata": {},
   "source": [
    "### 3. Take Random Actions in the Environment\n",
    "\n",
    "In the next code cell, you will learn how to use the Python API to control the agents and receive feedback from the environment.\n",
    "\n",
    "Once this cell is executed, you will watch the agents' performance, if they select actions at random with each time step.  A window should pop up that allows you to observe the agents.\n",
    "\n",
    "Of course, as part of the project, you'll have to change the code so that the agents are able to use their experiences to gradually choose better actions when interacting with the environment!"
   ]
  },
  {
   "cell_type": "code",
   "execution_count": 7,
   "metadata": {},
   "outputs": [],
   "source": [
    "# for i in range(1, 6):                                      # play game for 5 episodes\n",
    "#     env_info = env.reset(train_mode=False)[brain_name]     # reset the environment    \n",
    "#     states = env_info.vector_observations                  # get the current state (for each agent)\n",
    "#     scores = np.zeros(num_agents)                          # initialize the score (for each agent)\n",
    "#     while True:\n",
    "#         actions = np.random.randn(num_agents, action_size) # select an action (for each agent)\n",
    "#         actions = np.clip(actions, -1, 1)                  # all actions between -1 and 1\n",
    "#         env_info = env.step(actions)[brain_name]           # send all actions to tne environment\n",
    "#         next_states = env_info.vector_observations         # get next state (for each agent)\n",
    "#         rewards = env_info.rewards                         # get reward (for each agent)\n",
    "#         dones = env_info.local_done                        # see if episode finished\n",
    "#         scores += env_info.rewards                         # update the score (for each agent)\n",
    "#         states = next_states                               # roll over states to next time step\n",
    "#         if np.any(dones):                                  # exit loop if episode finished\n",
    "#             break\n",
    "#     print('Score (max over agents) from episode {}: {}'.format(i, np.max(scores)))"
   ]
  },
  {
   "cell_type": "code",
   "execution_count": 8,
   "metadata": {},
   "outputs": [],
   "source": [
    "# env.close()"
   ]
  },
  {
   "cell_type": "markdown",
   "metadata": {},
   "source": [
    "### 4. It's Your Turn!\n",
    "\n",
    "Now it's your turn to train your own agent to solve the environment!  When training the environment, set `train_mode=True`, so that the line for resetting the environment looks like the following:\n",
    "```python\n",
    "env_info = env.reset(train_mode=True)[brain_name]\n",
    "```"
   ]
  },
  {
   "cell_type": "code",
   "execution_count": 9,
   "metadata": {},
   "outputs": [],
   "source": [
    "from helpers.replay import UniformReplay\n",
    "from helpers.random_processes import OrnsteinUhlenbeckProcess\n",
    "from helpers.schedule import LinearSchedule\n",
    "from helpers.torch_utils import tensor, to_np\n",
    "import torchvision\n"
   ]
  },
  {
   "cell_type": "code",
   "execution_count": 10,
   "metadata": {},
   "outputs": [],
   "source": [
    "BUFFER_SIZE = int(1e6)  # replay buffer size\n",
    "BATCH_SIZE = 128  # minibatch size\n",
    "GAMMA = 0.99  # discount factor\n",
    "TAU = 1e-3  # for soft update of target parameters\n",
    "LR = 5e-4  # learning rate\n",
    "UPDATE_EVERY = 20  # how often to update the network\n",
    "UPDATE_NETWORK = 4\n",
    "TD_ERROR_ADJ = 1E-6\n",
    "from helpers.config import device\n"
   ]
  },
  {
   "cell_type": "code",
   "execution_count": 11,
<<<<<<< HEAD
=======
   "metadata": {},
   "outputs": [],
   "source": [
    "n_episodes=10000000\n",
    "max_t=10000"
   ]
  },
  {
   "cell_type": "code",
   "execution_count": 12,
   "metadata": {},
   "outputs": [],
   "source": [
    "state_dim = 24\n",
    "action_dim = 2\n",
    "critic_input_dim = 2*state_dim + action_dim"
   ]
  },
  {
   "cell_type": "code",
   "execution_count": 13,
   "metadata": {},
   "outputs": [],
   "source": [
    "from torch import nn\n",
    "import torch.nn.functional as F\n",
    "from helpers.network_utils import layer_init\n",
    "\n",
    "class Network(nn.Module):\n",
    "    def __init__(self, state_dim, hidden_units, output_dim, output_activation=lambda x: x, gate=F.relu):\n",
    "        super(Network, self).__init__()\n",
    "        dims = (state_dim,) + hidden_units + (output_dim,)\n",
    "\n",
    "        self.layers = nn.ModuleList(\n",
    "            [layer_init(nn.Linear(dim_in, dim_out)) for dim_in, dim_out in\n",
    "             zip(dims[:-1], dims[1:])])\n",
    "\n",
    "        self.gate = gate\n",
    "        self.output_activation = output_activation\n",
    "        self.feature_dim = dims[-1]\n",
    "        self.to(device)\n",
    "        self.dense1_bn = nn.BatchNorm1d(hidden_units[0])\n",
    "        self.dense1_bn.to(device)\n",
    "        \n",
    "    def forward(self, x):\n",
    "        for i, layer in enumerate(self.layers[:-1]):\n",
    "            if i == 0:\n",
    "                x = self.gate(self.dense1_bn(layer(x)))\n",
    "            else:\n",
    "                x = self.gate(layer(x))\n",
    "        output_layer = self.layers[-1]\n",
    "        x = output_layer(x)\n",
    "        x = self.output_activation(x)\n",
    "        return x"
   ]
  },
  {
   "cell_type": "code",
   "execution_count": 22,
>>>>>>> prioritized_replay
   "metadata": {},
   "outputs": [],
   "source": [
    "\n",
    "class DDPGAgent:\n",
    "    def __init__(self, train=True):\n",
    "\n",
    "        self.train = train\n",
    "        self.memory = UniformReplay(memory_size=int(1e6), batch_size=BATCH_SIZE)\n",
    "        \n",
    "        actor_layers = (50, 50, 50, 20)\n",
    "        self.actor = Network(state_dim, actor_layers, action_dim, torch.tanh)\n",
    "        self.actor_target = Network(state_dim, actor_layers, action_dim, torch.tanh)\n",
    "        self.actor_target.load_state_dict(self.actor.state_dict())\n",
    "        \n",
    "        critic_layers = (100, 50, 50, 20)\n",
    "        self.critic = Network(2*state_dim + action_dim, critic_layers, 1)\n",
    "        self.critic_target = Network(2*state_dim + action_dim, critic_layers, 1)\n",
    "        self.critic_target.load_state_dict(self.critic.state_dict()) \n",
    "        \n",
    "    \n",
    "        self.discount = 0.96\n",
    "        self.warm_up = int(1e4)\n",
    "        \n",
    "        self.target_network_mix = 5e-2\n",
    "        \n",
    "        self.random_process = OrnsteinUhlenbeckProcess(\n",
    "            size=(action_dim,), std=LinearSchedule(0.1))\n",
    "        self.random_process.reset_states()\n",
    "        \n",
    "        self.total_steps = 0\n",
    "        self.state = None\n",
    "        \n",
    "        self.device = device # torch.device(\"cuda:0\" if torch.cuda.is_available() else \"cpu\")\n",
    "        \n",
    "        if train:\n",
    "            self.t_step = 0\n",
    "        else:\n",
    "            self.t_step = 2*self.warm_up+1\n",
    "        \n",
    "        self.UPDATE_EVERY = UPDATE_EVERY\n",
    "        self.UPDATE_NETWORK = UPDATE_NETWORK\n",
    "        \n",
    "        self.BATCH_SIZE = BATCH_SIZE\n",
    "        \n",
    "        self.models = {'actor': self.actor,\n",
    "                       'critic': self.critic,\n",
    "                       'target_actor': self.actor_target,\n",
    "                       'target_critic': self.critic_target}\n",
    "\n",
    "    def soft_update(self, target, src):\n",
    "        for target_param, param in zip(target.parameters(), src.parameters()):\n",
    "            target_param.detach_()\n",
    "            target_param.copy_(target_param * (1.0 - self.target_network_mix) +\n",
    "                               param * self.target_network_mix)\n",
    "            \n",
    "    def save(self, model_nm):\n",
    "        path = os.sep.join(['.', 'model_weights', model_nm])\n",
    "        if not os.path.exists(path):\n",
    "            os.makedirs(path)\n",
    "            \n",
    "        for nm, model in self.models.items():\n",
    "            weights = model.state_dict()\n",
    "            torch.save(weights, os.sep.join([path, nm]))\n",
    "\n",
    "    def load(self, model_nm):\n",
    "        path = os.sep.join(['.', 'model_weights', model_nm])\n",
    "            \n",
    "        for nm, model in self.models.items():\n",
    "            state_dict = torch.load(os.sep.join([path, nm]))\n",
    "            model.load_state_dict(state_dict)\n",
    "            \n",
    "    def act(self, state):\n",
    "        state = torch.from_numpy(state).float().to(self.device)\n",
    "        \n",
    "        if self.total_steps < self.warm_up:\n",
    "            action = np.random.rand(action_dim).reshape(-1, action_dim)\n",
    "        else:\n",
    "            self.actor.eval()\n",
    "            action = self.actor(state)\n",
    "            if self.train:\n",
    "                self.actor.train()\n",
    "                action += self.random_process.sample()\n",
    "            action = to_np(action)\n",
    "        \n",
    "        # Need to clip due to random noise\n",
    "        action = np.clip(action, -1, 1)\n",
    "        \n",
    "        self.total_steps += 1\n",
    "        \n",
    "        return action\n",
    "        \n",
    "    def eval_step(self, state):\n",
    "        action = self.actor(state)\n",
    "        return to_np(action)\n",
    "\n",
    "    def step(self, state, colleague_state, action, reward, next_state, next_colleague_state, done):\n",
    "        self.memory.feed(dict(\n",
    "            state=state,\n",
    "            colleague_state=colleague_state,\n",
    "            action=action,\n",
    "            reward=reward,\n",
    "            next_state=next_state,\n",
    "            next_colleague_state=next_colleague_state,\n",
    "            mask=1-np.asarray(done, dtype=np.int32), ))\n",
    "        self.t_step = (self.t_step + 1) % self.UPDATE_EVERY\n",
    "        \n",
    "        if (self.t_step == 0) and (self.memory.size()  >= self.warm_up):\n",
    "            for _ in range(self.UPDATE_NETWORK):\n",
    "                self.learn()\n",
    "        \n",
    "    def learn(self):\n",
    "        transitions = self.memory.sample()\n",
    "        states = tensor(transitions.state)\n",
    "        colleague_states = tensor(transitions.colleague_state)\n",
    "        actions = tensor(transitions.action)\n",
    "        rewards = tensor(transitions.reward).unsqueeze(-1)\n",
    "        next_states = tensor(transitions.next_state)\n",
    "        next_colleague_states = tensor(transitions.next_colleague_state)\n",
    "        mask = tensor(transitions.mask).unsqueeze(-1)\n",
    "\n",
    "        \n",
    "        a_next = self.actor_target(next_states)\n",
    "        critic_target_input = torch.cat([next_states, next_colleague_states, a_next], axis=1)\n",
    "        q_next = self.critic_target(critic_target_input)\n",
    "        q_next = self.discount * mask * q_next\n",
    "        q_next.add_(rewards)\n",
    "        q_next = q_next.detach()\n",
    "\n",
    "        critic_input = torch.cat([states, colleague_states, actions], axis=1)\n",
    "        q = self.critic(critic_input)\n",
    "        critic_loss = (q - q_next).pow(2).mul(0.5).sum(-1).mean()\n",
    "\n",
    "        self.critic.zero_grad()\n",
    "        critic_loss.backward()\n",
    "        torch.nn.utils.clip_grad_norm_(self.critic.parameters(), 1)\n",
    "        self.critic_optim = torch.optim.Adam(self.critic.parameters(), lr=1e-3).step()\n",
    "        \n",
    "        \n",
    "        self.soft_update(self.critic_target, self.critic)\n",
    "        \n",
    "        \n",
    "        action = self.actor(states)\n",
    "        critic_input = torch.cat([states.detach(), colleague_states.detach(), action], axis=1)\n",
    "        policy_loss = -self.critic(critic_input).mean()\n",
    "\n",
    "        self.actor.zero_grad()\n",
    "        policy_loss.backward()\n",
    "\n",
<<<<<<< HEAD
    "        self.soft_update(self.target_network, self.network)"
   ]
  },
  {
   "cell_type": "code",
   "execution_count": 12,
   "metadata": {},
   "outputs": [],
   "source": [
    "n_episodes=10000000\n",
    "max_t=10000"
=======
    "        torch.nn.utils.clip_grad_norm_(self.actor.parameters(), 1)\n",
    "        torch.optim.Adam(self.actor.parameters(), lr=1e-3).step()\n",
    "        \n",
    "\n",
    "        self.soft_update(self.actor_target, self.actor)"
>>>>>>> prioritized_replay
   ]
  },
  {
   "cell_type": "markdown",
   "metadata": {},
   "source": [
    "#### State standardization\n",
    "I accumulated samples in the replay buffer and then just got empirical mean and max. absolute values around that mean."
   ]
  },
  {
   "cell_type": "code",
<<<<<<< HEAD
   "execution_count": 13,
=======
   "execution_count": 15,
>>>>>>> prioritized_replay
   "metadata": {},
   "outputs": [],
   "source": [
    "mean_state = np.array([-4.80006529e+00,  1.36604393e-02,  5.99677352e+00,  8.16729930e-01,\n",
    "       -6.04321677e-02,  2.99387520e+00,  5.99677352e+00,  8.16729930e-01,\n",
    "       -5.07671490e+00,  6.29919302e-03,  6.35296714e+00,  5.96779433e-01,\n",
    "       -6.25882435e-02,  2.88864339e+00,  6.35296714e+00,  5.96779433e-01,\n",
    "       -5.37267477e+00, -3.38142435e-02,  6.99621777e+00,  3.08744504e-01,\n",
    "       -8.68654266e-02,  2.74919914e+00,  6.99621777e+00,  3.08744504e-01])\n",
    "\n",
    "maxi_state = np.array([ 6.66741537,  1.86601985, 35.99677352, 11.28007832, 11.70666   ,\n",
    "        4.74047845, 35.99677352, 11.28007832,  6.39904747,  1.85865861,\n",
    "       36.35296714, 11.06012782, 11.75664762,  5.11374653, 36.35296714,\n",
    "       11.06012782,  6.10549468,  1.81854517, 36.99621777, 10.77209289,\n",
    "       11.89764881,  5.63183807, 36.99621777, 10.77209289])"
   ]
  },
  {
   "cell_type": "code",
<<<<<<< HEAD
   "execution_count": null,
=======
   "execution_count": 17,
>>>>>>> prioritized_replay
   "metadata": {
    "scrolled": false
   },
   "outputs": [
    {
     "name": "stdout",
     "output_type": "stream",
     "text": [
      "Episode 100\tAverage Score: 0.00\n",
      "Episode 200\tAverage Score: 0.00\n",
      "Episode 300\tAverage Score: 0.00\n",
      "Episode 400\tAverage Score: 0.00\n",
<<<<<<< HEAD
      "Episode 500\tAverage Score: 0.00\n",
      "Episode 600\tAverage Score: 0.00\n",
      "Episode 700\tAverage Score: 0.00\n",
      "Episode 800\tAverage Score: 0.00\n",
      "Episode 900\tAverage Score: 0.00\n",
      "Episode 1000\tAverage Score: 0.01\n",
      "Episode 1100\tAverage Score: 0.02\n",
      "Episode 1200\tAverage Score: 0.00\n",
      "Episode 1300\tAverage Score: 0.00\n",
      "Episode 1400\tAverage Score: 0.01\n",
      "Episode 1500\tAverage Score: 0.00\n",
      "Episode 1600\tAverage Score: 0.00\n",
      "Episode 1700\tAverage Score: 0.02\n",
      "Episode 1800\tAverage Score: 0.01\n",
      "Episode 1900\tAverage Score: 0.00\n",
      "Episode 2000\tAverage Score: 0.00\n",
      "Episode 2100\tAverage Score: 0.01\n",
      "Episode 2200\tAverage Score: 0.04\n",
      "Episode 2300\tAverage Score: 0.05\n",
      "Episode 2400\tAverage Score: 0.08\n",
      "Episode 2452\tAverage Score: 0.10"
=======
      "Episode 500\tAverage Score: 0.01\n",
      "Episode 600\tAverage Score: 0.00\n",
      "Episode 700\tAverage Score: 0.00\n",
      "Episode 800\tAverage Score: 0.00\n",
      "Episode 900\tAverage Score: 0.01\n",
      "Episode 1000\tAverage Score: 0.02\n",
      "Episode 1100\tAverage Score: 0.10\n",
      "Episode 1200\tAverage Score: 0.18\n",
      "Episode 1237\tAverage Score: 0.52\n",
      "Environment solved in 1137 episodes!\tAverage Score: 0.52\n"
>>>>>>> prioritized_replay
     ]
    }
   ],
   "source": [
    "from collections import deque\n",
    "scores_l = []  # list containing scores from each episode\n",
    "scores_window = deque(maxlen=100)  # last 100 scores\n",
    "best_score = 0\n",
    "agent = DDPGAgent()\n",
    "\n",
    "for i_episode in range(1, n_episodes + 1):\n",
    "    env_info = env.reset(train_mode=True)[brain_name]      # reset the environment   \n",
    "    states = (env_info.vector_observations - mean_state) / maxi_state            # get the current state (for each agent)\n",
    "    state_left = states[:1]\n",
    "    state_right = states[1:]\n",
    "    scores_left = 0\n",
    "    scores_right = 0\n",
    "\n",
    "    agent.random_process.reset_states() # should this really be restarted every episode?\n",
    "\n",
    "    while True:\n",
    "        action_left = agent.act(state_left)                # all actions between -1 and 1\n",
    "        action_right = agent.act(state_right)\n",
    "        actions = np.clip(np.vstack([action_left, action_right]), -1, 1)\n",
    "        env_info = env.step(actions)[brain_name]           # send all actions to tne environment\n",
    "        next_states = (env_info.vector_observations - mean_state) / maxi_state      # get next state (for each agent)\n",
    "        next_state_left = next_states[:1]\n",
    "        next_state_right = next_states[1:] #* sign\n",
    "        rewards = env_info.rewards                         # get reward (for each agent)\n",
    "        rewards_left = rewards[:1]\n",
    "        rewards_right = rewards[1:]\n",
    "        dones = env_info.local_done                        # see if episode finished\n",
    "        dones_left = dones[:1]\n",
    "        dones_right = dones[1:]\n",
    "        scores_left += rewards_left[0]\n",
    "        scores_right += rewards_right[0]                     # update the score (for each agent)\n",
    "        agent.step(state_left, state_right, action_left, [rewards_left[0]+rewards_right[0]], next_state_left, next_state_right, dones_left)\n",
    "        agent.step(state_right, state_left, action_right, [rewards_right[0]+rewards_left[0]], next_state_right, next_state_left, dones_right)\n",
    "        states = next_states                               # roll over states to next time step\n",
    "        state_left = states[:1]\n",
    "        state_right = states[1:]\n",
    "        if np.any(dones):                                  # exit loop if episode finished\n",
    "            break\n",
    "\n",
    "    scores_window.append(max(scores_left, scores_right))  # save most recent score\n",
    "    scores_l.append(max(scores_left, scores_right))  # save most recent score\n",
    "\n",
    "    rolling_score = np.mean(scores_window)\n",
    "    if (rolling_score > 0.5) & (rolling_score > best_score):\n",
    "        best_score = rolling_score\n",
    "        agent.save('better_model')\n",
    "        \n",
    "    print('\\rEpisode {}\\tAverage Score: {:.2f}'.format(i_episode,\n",
    "                                                   rolling_score),\n",
    "                                                  end=\"\")\n",
    "    if i_episode % 100 == 0:\n",
    "        print('\\rEpisode {}\\tAverage Score: {:.2f}'.format(i_episode, np.mean(scores_window)))\n",
    "    if np.mean(scores_window) >= 0.5:\n",
    "        print(\n",
    "        '\\nEnvironment solved in {:d} episodes!\\tAverage Score: {:.2f}'.format(\n",
    "          i_episode - 100, np.mean(scores_window)))\n",
    "        agent.save('successfull_model')\n",
    "        break"
   ]
  },
  {
   "cell_type": "code",
   "execution_count": 18,
   "metadata": {},
   "outputs": [
    {
     "data": {
      "image/png": "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\n",
      "text/plain": [
       "<Figure size 432x288 with 1 Axes>"
      ]
     },
     "metadata": {
      "needs_background": "light"
     },
     "output_type": "display_data"
    }
   ],
   "source": [
    "# plot the scores\n",
    "import matplotlib.pyplot as plt\n",
    "fig = plt.figure()\n",
    "ax = fig.add_subplot(111)\n",
    "plt.plot(np.arange(len(scores_l)), scores_l)\n",
    "plt.ylabel('Score')\n",
    "plt.xlabel('Episode #')\n",
    "plt.show()"
   ]
  },
  {
   "cell_type": "markdown",
   "metadata": {},
   "source": [
    "### Test Agent"
   ]
  },
  {
   "cell_type": "code",
   "execution_count": 25,
   "metadata": {},
   "outputs": [],
   "source": [
    "agent = DDPGAgent(train=False)\n",
    "agent.load('better_model')\n",
    "\n",
    "from time import sleep\n",
    "nb_games = 10\n",
    "for i_episode in range(nb_games):\n",
    "    env_info = env.reset(train_mode=False)[brain_name]      # reset the environment   \n",
    "    states = (env_info.vector_observations - mean_state) / maxi_state            # get the current state (for each agent)\n",
    "    state_left = states[:1]\n",
    "    state_right = states[1:]\n",
    "\n",
    "    while True:\n",
    "        sleep(0.01)\n",
    "        action_left = agent.act(state_left)                # all actions between -1 and 1\n",
    "        action_right = agent.act(state_right)\n",
    "        actions = np.clip(np.vstack([action_left, action_right]), -1, 1)\n",
    "        env_info = env.step(actions)[brain_name]           # send all actions to tne environment\n",
    "        next_states = (env_info.vector_observations - mean_state) / maxi_state      # get next state (for each agent)\n",
    "\n",
    "\n",
    "        dones = env_info.local_done                        # see if episode finished\n",
    "                             # roll over states to next time step\n",
    "        state_left = states[:1]\n",
    "        state_right = states[1:]\n",
    "        if np.any(dones):                                  # exit loop if episode finished\n",
    "            break"
   ]
  },
  {
   "cell_type": "code",
   "execution_count": 20,
   "metadata": {},
   "outputs": [],
   "source": [
    "env.close()"
   ]
  }
 ],
 "metadata": {
  "kernelspec": {
   "display_name": "Python 3",
   "language": "python",
   "name": "python3"
  },
  "language_info": {
   "codemirror_mode": {
    "name": "ipython",
    "version": 3
   },
   "file_extension": ".py",
   "mimetype": "text/x-python",
   "name": "python",
   "nbconvert_exporter": "python",
   "pygments_lexer": "ipython3",
   "version": "3.6.13"
  }
 },
 "nbformat": 4,
 "nbformat_minor": 2
}
