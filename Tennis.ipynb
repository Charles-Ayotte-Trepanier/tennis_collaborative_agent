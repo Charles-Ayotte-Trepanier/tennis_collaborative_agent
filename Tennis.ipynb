{
 "cells": [
  {
   "cell_type": "markdown",
   "metadata": {},
   "source": [
    "# Collaboration and Competition\n",
    "\n",
    "---\n",
    "\n",
    "In this notebook, you will learn how to use the Unity ML-Agents environment for the third project of the [Deep Reinforcement Learning Nanodegree](https://www.udacity.com/course/deep-reinforcement-learning-nanodegree--nd893) program.\n",
    "\n",
    "### 1. Start the Environment\n",
    "\n",
    "We begin by importing the necessary packages.  If the code cell below returns an error, please revisit the project instructions to double-check that you have installed [Unity ML-Agents](https://github.com/Unity-Technologies/ml-agents/blob/master/docs/Installation.md) and [NumPy](http://www.numpy.org/)."
   ]
  },
  {
   "cell_type": "code",
   "execution_count": 5,
   "metadata": {},
   "outputs": [],
   "source": [
    "import torch\n",
    "from unityagents import UnityEnvironment\n",
    "import numpy as np"
   ]
  },
  {
   "cell_type": "markdown",
   "metadata": {},
   "source": [
    "Next, we will start the environment!  **_Before running the code cell below_**, change the `file_name` parameter to match the location of the Unity environment that you downloaded.\n",
    "\n",
    "- **Mac**: `\"path/to/Tennis.app\"`\n",
    "- **Windows** (x86): `\"path/to/Tennis_Windows_x86/Tennis.exe\"`\n",
    "- **Windows** (x86_64): `\"path/to/Tennis_Windows_x86_64/Tennis.exe\"`\n",
    "- **Linux** (x86): `\"path/to/Tennis_Linux/Tennis.x86\"`\n",
    "- **Linux** (x86_64): `\"path/to/Tennis_Linux/Tennis.x86_64\"`\n",
    "- **Linux** (x86, headless): `\"path/to/Tennis_Linux_NoVis/Tennis.x86\"`\n",
    "- **Linux** (x86_64, headless): `\"path/to/Tennis_Linux_NoVis/Tennis.x86_64\"`\n",
    "\n",
    "For instance, if you are using a Mac, then you downloaded `Tennis.app`.  If this file is in the same folder as the notebook, then the line below should appear as follows:\n",
    "```\n",
    "env = UnityEnvironment(file_name=\"Tennis.app\")\n",
    "```"
   ]
  },
  {
   "cell_type": "code",
   "execution_count": 6,
   "metadata": {},
   "outputs": [],
   "source": [
    "import os"
   ]
  },
  {
   "cell_type": "code",
   "execution_count": 7,
   "metadata": {},
   "outputs": [],
   "source": [
    "path = os.path.join('Tennis_Linux', 'Tennis.x86')"
   ]
  },
  {
   "cell_type": "code",
   "execution_count": 23,
   "metadata": {},
   "outputs": [
    {
     "name": "stderr",
     "output_type": "stream",
     "text": [
      "INFO:unityagents:\n",
      "'Academy' started successfully!\n",
      "Unity Academy name: Academy\n",
      "        Number of Brains: 1\n",
      "        Number of External Brains : 1\n",
      "        Lesson number : 0\n",
      "        Reset Parameters :\n",
      "\t\t\n",
      "Unity brain name: TennisBrain\n",
      "        Number of Visual Observations (per agent): 0\n",
      "        Vector Observation space type: continuous\n",
      "        Vector Observation space size (per agent): 8\n",
      "        Number of stacked Vector Observation: 3\n",
      "        Vector Action space type: continuous\n",
      "        Vector Action space size (per agent): 2\n",
      "        Vector Action descriptions: , \n"
     ]
    }
   ],
   "source": [
    "env = UnityEnvironment(file_name=path)"
   ]
  },
  {
   "cell_type": "markdown",
   "metadata": {},
   "source": [
    "Environments contain **_brains_** which are responsible for deciding the actions of their associated agents. Here we check for the first brain available, and set it as the default brain we will be controlling from Python."
   ]
  },
  {
   "cell_type": "code",
   "execution_count": 24,
   "metadata": {},
   "outputs": [],
   "source": [
    "# get the default brain\n",
    "brain_name = env.brain_names[0]\n",
    "brain = env.brains[brain_name]"
   ]
  },
  {
   "cell_type": "markdown",
   "metadata": {},
   "source": [
    "### 2. Examine the State and Action Spaces\n",
    "\n",
    "In this environment, two agents control rackets to bounce a ball over a net. If an agent hits the ball over the net, it receives a reward of +0.1.  If an agent lets a ball hit the ground or hits the ball out of bounds, it receives a reward of -0.01.  Thus, the goal of each agent is to keep the ball in play.\n",
    "\n",
    "The observation space consists of 8 variables corresponding to the position and velocity of the ball and racket. Two continuous actions are available, corresponding to movement toward (or away from) the net, and jumping. \n",
    "\n",
    "Run the code cell below to print some information about the environment."
   ]
  },
  {
   "cell_type": "code",
   "execution_count": 10,
   "metadata": {},
   "outputs": [],
   "source": [
    "# # reset the environment\n",
    "# env_info = env.reset(train_mode=True)[brain_name]\n",
    "\n",
    "# # number of agents \n",
    "# num_agents = len(env_info.agents)\n",
    "# print('Number of agents:', num_agents)\n",
    "\n",
    "# # size of each action\n",
    "# action_size = brain.vector_action_space_size\n",
    "# print('Size of each action:', action_size)\n",
    "\n",
    "# # examine the state space \n",
    "# states = env_info.vector_observations\n",
    "# state_size = states.shape[1]\n",
    "# print('There are {} agents. Each observes a state with length: {}'.format(states.shape[0], state_size))\n",
    "# print('The state for the first agent looks like:', states[0])"
   ]
  },
  {
   "cell_type": "markdown",
   "metadata": {},
   "source": [
    "### 3. Take Random Actions in the Environment\n",
    "\n",
    "In the next code cell, you will learn how to use the Python API to control the agents and receive feedback from the environment.\n",
    "\n",
    "Once this cell is executed, you will watch the agents' performance, if they select actions at random with each time step.  A window should pop up that allows you to observe the agents.\n",
    "\n",
    "Of course, as part of the project, you'll have to change the code so that the agents are able to use their experiences to gradually choose better actions when interacting with the environment!"
   ]
  },
  {
   "cell_type": "code",
   "execution_count": 11,
   "metadata": {},
   "outputs": [],
   "source": [
    "# for i in range(1, 6):                                      # play game for 5 episodes\n",
    "#     env_info = env.reset(train_mode=False)[brain_name]     # reset the environment    \n",
    "#     states = env_info.vector_observations                  # get the current state (for each agent)\n",
    "#     scores = np.zeros(num_agents)                          # initialize the score (for each agent)\n",
    "#     while True:\n",
    "#         actions = np.random.randn(num_agents, action_size) # select an action (for each agent)\n",
    "#         actions = np.clip(actions, -1, 1)                  # all actions between -1 and 1\n",
    "#         env_info = env.step(actions)[brain_name]           # send all actions to tne environment\n",
    "#         next_states = env_info.vector_observations         # get next state (for each agent)\n",
    "#         rewards = env_info.rewards                         # get reward (for each agent)\n",
    "#         dones = env_info.local_done                        # see if episode finished\n",
    "#         scores += env_info.rewards                         # update the score (for each agent)\n",
    "#         states = next_states                               # roll over states to next time step\n",
    "#         if np.any(dones):                                  # exit loop if episode finished\n",
    "#             break\n",
    "#     print('Score (max over agents) from episode {}: {}'.format(i, np.max(scores)))"
   ]
  },
  {
   "cell_type": "code",
   "execution_count": 12,
   "metadata": {},
   "outputs": [],
   "source": [
    "# env.close()"
   ]
  },
  {
   "cell_type": "markdown",
   "metadata": {},
   "source": [
    "### 4. It's Your Turn!\n",
    "\n",
    "Now it's your turn to train your own agent to solve the environment!  When training the environment, set `train_mode=True`, so that the line for resetting the environment looks like the following:\n",
    "```python\n",
    "env_info = env.reset(train_mode=True)[brain_name]\n",
    "```"
   ]
  },
  {
   "cell_type": "code",
   "execution_count": 13,
   "metadata": {},
   "outputs": [],
   "source": [
    "from helpers.replay import UniformReplay\n",
    "from helpers.random_processes import OrnsteinUhlenbeckProcess\n",
    "from helpers.schedule import LinearSchedule\n",
    "from helpers.torch_utils import tensor, to_np\n",
    "from helpers.network_utils import layer_init\n",
    "\n",
    "import torchvision\n"
   ]
  },
  {
   "cell_type": "code",
   "execution_count": 14,
   "metadata": {},
   "outputs": [],
   "source": [
    "BUFFER_SIZE = int(1e6)  # replay buffer size\n",
    "BATCH_SIZE = 128  # minibatch size\n",
    "GAMMA = 0.99  # discount factor\n",
    "TAU = 1e-3  # for soft update of target parameters\n",
    "LR = 5e-4  # learning rate\n",
    "UPDATE_EVERY = 20  # how often to update the network\n",
    "UPDATE_NETWORK = 4\n",
    "TD_ERROR_ADJ = 1E-6\n",
    "from helpers.config import device\n"
   ]
  },
  {
   "cell_type": "code",
   "execution_count": 15,
   "metadata": {},
   "outputs": [],
   "source": [
    "n_episodes=10000000\n",
    "max_t=10000"
   ]
  },
  {
   "cell_type": "code",
   "execution_count": 16,
   "metadata": {},
   "outputs": [],
   "source": [
    "state_dim = 24\n",
    "action_dim = 2\n",
    "critic_input_dim = 2*state_dim + action_dim"
   ]
  },
  {
   "cell_type": "code",
   "execution_count": 17,
   "metadata": {},
   "outputs": [],
   "source": [
    "from torch import nn\n",
    "import torch.nn.functional as F\n",
    "\n",
    "class Network(nn.Module):\n",
    "    def __init__(self, state_dim, hidden_units, output_dim, output_activation=lambda x: x, gate=F.relu):\n",
    "        super(Network, self).__init__()\n",
    "        dims = (state_dim,) + hidden_units + (output_dim,)\n",
    "\n",
    "        self.layers = nn.ModuleList(\n",
    "            [layer_init(nn.Linear(dim_in, dim_out)) for dim_in, dim_out in\n",
    "             zip(dims[:-1], dims[1:])])\n",
    "\n",
    "        self.gate = gate\n",
    "        self.output_activation = output_activation\n",
    "        self.feature_dim = dims[-1]\n",
    "        self.to(device)\n",
    "        self.dense1_bn = nn.BatchNorm1d(hidden_units[0])\n",
    "        self.dense1_bn.to(device)\n",
    "        \n",
    "    def forward(self, x):\n",
    "        for i, layer in enumerate(self.layers[:-1]):\n",
    "            if i == 0:\n",
    "                x = self.gate(self.dense1_bn(layer(x)))\n",
    "            else:\n",
    "                x = self.gate(layer(x))\n",
    "        output_layer = self.layers[-1]\n",
    "        x = output_layer(x)\n",
    "        x = self.output_activation(x)\n",
    "        return x"
   ]
  },
  {
   "cell_type": "code",
   "execution_count": 88,
   "metadata": {},
   "outputs": [],
   "source": [
    "\n",
    "class DDPGAgent:\n",
    "    def __init__(self, train=True):\n",
    "\n",
    "        self.train = train\n",
    "        self.memory = UniformReplay(memory_size=int(1e6), batch_size=BATCH_SIZE)\n",
    "        \n",
    "        actor_layers = (50, 50, 50, 20)\n",
    "        self.actor = Network(state_dim, actor_layers, action_dim, torch.tanh)\n",
    "        self.actor_target = Network(state_dim, actor_layers, action_dim, torch.tanh)\n",
    "        self.actor_target.load_state_dict(self.actor.state_dict())\n",
    "        \n",
    "        critic_layers = (100, 50, 50, 20)\n",
    "        self.critic = Network(2*state_dim + action_dim, critic_layers, 1)\n",
    "        self.critic_target = Network(2*state_dim + action_dim, critic_layers, 1)\n",
    "        self.critic_target.load_state_dict(self.critic.state_dict()) \n",
    "        \n",
    "    \n",
    "        self.discount = 0.96\n",
    "        self.warm_up = int(1e4)\n",
    "        \n",
    "        self.target_network_mix = 5e-2\n",
    "        \n",
    "        self.random_process = OrnsteinUhlenbeckProcess(\n",
    "            size=(action_dim,), std=LinearSchedule(0.1))\n",
    "        self.random_process.reset_states()\n",
    "        \n",
    "        self.state = None\n",
    "        \n",
    "        self.device = device # torch.device(\"cuda:0\" if torch.cuda.is_available() else \"cpu\")\n",
    "        \n",
    "        self.t_step = 0\n",
    "        \n",
    "        if train:\n",
    "            self.total_steps = 0\n",
    "        else:\n",
    "            self.total_steps = 2*self.warm_up+1\n",
    "        \n",
    "        self.UPDATE_EVERY = UPDATE_EVERY\n",
    "        self.UPDATE_NETWORK = UPDATE_NETWORK\n",
    "        \n",
    "        self.BATCH_SIZE = BATCH_SIZE\n",
    "        \n",
    "        self.models = {'actor': self.actor,\n",
    "                       'critic': self.critic,\n",
    "                       'target_actor': self.actor_target,\n",
    "                       'target_critic': self.critic_target}\n",
    "\n",
    "    def soft_update(self, target, src):\n",
    "        for target_param, param in zip(target.parameters(), src.parameters()):\n",
    "            target_param.detach_()\n",
    "            target_param.copy_(target_param * (1.0 - self.target_network_mix) +\n",
    "                               param * self.target_network_mix)\n",
    "            \n",
    "    def save(self, model_nm):\n",
    "        path = os.sep.join(['.', 'model_weights', model_nm])\n",
    "        if not os.path.exists(path):\n",
    "            os.makedirs(path)\n",
    "            \n",
    "        for nm, model in self.models.items():\n",
    "            weights = model.state_dict()\n",
    "            torch.save(weights, os.sep.join([path, nm]))\n",
    "\n",
    "    def load(self, model_nm):\n",
    "        path = os.sep.join(['.', 'model_weights', model_nm])\n",
    "            \n",
    "        for nm, model in self.models.items():\n",
    "            state_dict = torch.load(os.sep.join([path, nm]))\n",
    "            model.load_state_dict(state_dict)\n",
    "            \n",
    "    def act(self, state):\n",
    "        state = torch.from_numpy(state).float().to(self.device)\n",
    "        \n",
    "        if self.total_steps < self.warm_up:\n",
    "            action = np.random.rand(action_dim).reshape(-1, action_dim)\n",
    "        else:\n",
    "            self.actor.eval()\n",
    "            action = self.actor(state)\n",
    "            action = to_np(action)\n",
    "            if self.train:\n",
    "                self.actor.train()\n",
    "                action += self.random_process.sample()\n",
    "        \n",
    "        # Need to clip due to random noise\n",
    "        action = np.clip(action, -1, 1)\n",
    "        \n",
    "        self.total_steps += 1\n",
    "        \n",
    "        return action\n",
    "        \n",
    "    def eval_step(self, state):\n",
    "        action = self.actor(state)\n",
    "        return to_np(action)\n",
    "\n",
    "    def step(self, state, colleague_state, action, reward, next_state, next_colleague_state, done):\n",
    "        self.memory.feed(dict(\n",
    "            state=state,\n",
    "            colleague_state=colleague_state,\n",
    "            action=action,\n",
    "            reward=reward,\n",
    "            next_state=next_state,\n",
    "            next_colleague_state=next_colleague_state,\n",
    "            mask=1-np.asarray(done, dtype=np.int32), ))\n",
    "        self.t_step = (self.t_step + 1) % self.UPDATE_EVERY\n",
    "        \n",
    "        if (self.t_step == 0) and (self.memory.size()  >= self.warm_up):\n",
    "            for _ in range(self.UPDATE_NETWORK):\n",
    "                self.learn()\n",
    "        \n",
    "    def learn(self):\n",
    "        transitions = self.memory.sample()\n",
    "        states = tensor(transitions.state)\n",
    "        colleague_states = tensor(transitions.colleague_state)\n",
    "        actions = tensor(transitions.action)\n",
    "        rewards = tensor(transitions.reward).unsqueeze(-1)\n",
    "        next_states = tensor(transitions.next_state)\n",
    "        next_colleague_states = tensor(transitions.next_colleague_state)\n",
    "        mask = tensor(transitions.mask).unsqueeze(-1)\n",
    "\n",
    "        \n",
    "        a_next = self.actor_target(next_states)\n",
    "        critic_target_input = torch.cat([next_states, next_colleague_states, a_next], axis=1)\n",
    "        q_next = self.critic_target(critic_target_input)\n",
    "        q_next = self.discount * mask * q_next\n",
    "        q_next.add_(rewards)\n",
    "        q_next = q_next.detach()\n",
    "\n",
    "        critic_input = torch.cat([states, colleague_states, actions], axis=1)\n",
    "        q = self.critic(critic_input)\n",
    "        critic_loss = (q - q_next).pow(2).mul(0.5).sum(-1).mean()\n",
    "\n",
    "        self.critic.zero_grad()\n",
    "        critic_loss.backward()\n",
    "        torch.nn.utils.clip_grad_norm_(self.critic.parameters(), 1)\n",
    "        self.critic_optim = torch.optim.Adam(self.critic.parameters(), lr=1e-3).step()\n",
    "        \n",
    "        \n",
    "        self.soft_update(self.critic_target, self.critic)\n",
    "        \n",
    "        \n",
    "        action = self.actor(states)\n",
    "        critic_input = torch.cat([states.detach(), colleague_states.detach(), action], axis=1)\n",
    "        policy_loss = -self.critic(critic_input).mean()\n",
    "\n",
    "        self.actor.zero_grad()\n",
    "        policy_loss.backward()\n",
    "\n",
    "        torch.nn.utils.clip_grad_norm_(self.actor.parameters(), 1)\n",
    "        torch.optim.Adam(self.actor.parameters(), lr=1e-3).step()\n",
    "        \n",
    "\n",
    "        self.soft_update(self.actor_target, self.actor)"
   ]
  },
  {
   "cell_type": "markdown",
   "metadata": {},
   "source": [
    "#### State standardization\n",
    "I accumulated samples in the replay buffer and then just got empirical mean and max. absolute values around that mean."
   ]
  },
  {
   "cell_type": "code",
   "execution_count": 19,
   "metadata": {},
   "outputs": [],
   "source": [
    "mean_state = np.array([-4.80006529e+00,  1.36604393e-02,  5.99677352e+00,  8.16729930e-01,\n",
    "       -6.04321677e-02,  2.99387520e+00,  5.99677352e+00,  8.16729930e-01,\n",
    "       -5.07671490e+00,  6.29919302e-03,  6.35296714e+00,  5.96779433e-01,\n",
    "       -6.25882435e-02,  2.88864339e+00,  6.35296714e+00,  5.96779433e-01,\n",
    "       -5.37267477e+00, -3.38142435e-02,  6.99621777e+00,  3.08744504e-01,\n",
    "       -8.68654266e-02,  2.74919914e+00,  6.99621777e+00,  3.08744504e-01])\n",
    "\n",
    "maxi_state = np.array([ 6.66741537,  1.86601985, 35.99677352, 11.28007832, 11.70666   ,\n",
    "        4.74047845, 35.99677352, 11.28007832,  6.39904747,  1.85865861,\n",
    "       36.35296714, 11.06012782, 11.75664762,  5.11374653, 36.35296714,\n",
    "       11.06012782,  6.10549468,  1.81854517, 36.99621777, 10.77209289,\n",
    "       11.89764881,  5.63183807, 36.99621777, 10.77209289])"
   ]
  },
  {
   "cell_type": "code",
   "execution_count": 20,
   "metadata": {
    "scrolled": false
   },
   "outputs": [
    {
     "name": "stdout",
     "output_type": "stream",
     "text": [
      "Episode 100\tAverage Score: 0.00\n",
      "Episode 200\tAverage Score: 0.00\n",
      "Episode 300\tAverage Score: 0.00\n",
      "Episode 400\tAverage Score: 0.01\n",
      "Episode 500\tAverage Score: 0.01\n",
      "Episode 600\tAverage Score: 0.01\n",
      "Episode 700\tAverage Score: 0.06\n",
      "Episode 800\tAverage Score: 0.26\n",
      "Episode 847\tAverage Score: 0.50\n",
      "Environment solved in 747 episodes!\tAverage Score: 0.50\n"
     ]
    }
   ],
   "source": [
    "from collections import deque\n",
    "scores_l = []  # list containing scores from each episode\n",
    "scores_window = deque(maxlen=100)  # last 100 scores\n",
    "best_score = 0\n",
    "agent = DDPGAgent()\n",
    "\n",
    "for i_episode in range(1, n_episodes + 1):\n",
    "    env_info = env.reset(train_mode=True)[brain_name]      # reset the environment   \n",
    "    states = (env_info.vector_observations - mean_state) / maxi_state            # get the current state (for each agent)\n",
    "    state_left = states[:1]\n",
    "    state_right = states[1:]\n",
    "    scores_left = 0\n",
    "    scores_right = 0\n",
    "\n",
    "    agent.random_process.reset_states() # should this really be restarted every episode?\n",
    "\n",
    "    while True:\n",
    "        action_left = agent.act(state_left)                # all actions between -1 and 1\n",
    "        action_right = agent.act(state_right)\n",
    "        actions = np.clip(np.vstack([action_left, action_right]), -1, 1)\n",
    "        env_info = env.step(actions)[brain_name]           # send all actions to tne environment\n",
    "        next_states = (env_info.vector_observations - mean_state) / maxi_state      # get next state (for each agent)\n",
    "        next_state_left = next_states[:1]\n",
    "        next_state_right = next_states[1:] #* sign\n",
    "        rewards = env_info.rewards                         # get reward (for each agent)\n",
    "        rewards_left = rewards[:1]\n",
    "        rewards_right = rewards[1:]\n",
    "        dones = env_info.local_done                        # see if episode finished\n",
    "        dones_left = dones[:1]\n",
    "        dones_right = dones[1:]\n",
    "        scores_left += rewards_left[0]\n",
    "        scores_right += rewards_right[0]                     # update the score (for each agent)\n",
    "        agent.step(state_left, state_right, action_left, [rewards_left[0]+rewards_right[0]], next_state_left, next_state_right, dones_left)\n",
    "        agent.step(state_right, state_left, action_right, [rewards_right[0]+rewards_left[0]], next_state_right, next_state_left, dones_right)\n",
    "        states = next_states                               # roll over states to next time step\n",
    "        state_left = states[:1]\n",
    "        state_right = states[1:]\n",
    "        if np.any(dones):                                  # exit loop if episode finished\n",
    "            break\n",
    "\n",
    "    scores_window.append(max(scores_left, scores_right))  # save most recent score\n",
    "    scores_l.append(max(scores_left, scores_right))  # save most recent score\n",
    "\n",
    "    rolling_score = np.mean(scores_window)\n",
    "    if (rolling_score > 0.5) & (rolling_score > best_score):\n",
    "        best_score = rolling_score\n",
    "        agent.save('better_model')\n",
    "        \n",
    "    print('\\rEpisode {}\\tAverage Score: {:.2f}'.format(i_episode,\n",
    "                                                   rolling_score),\n",
    "                                                  end=\"\")\n",
    "    if i_episode % 100 == 0:\n",
    "        print('\\rEpisode {}\\tAverage Score: {:.2f}'.format(i_episode, np.mean(scores_window)))\n",
    "    if np.mean(scores_window) >= 0.5:\n",
    "        print(\n",
    "        '\\nEnvironment solved in {:d} episodes!\\tAverage Score: {:.2f}'.format(\n",
    "          i_episode - 100, np.mean(scores_window)))\n",
    "        agent.save('successfull_model')\n",
    "        break"
   ]
  },
  {
   "cell_type": "code",
   "execution_count": 36,
   "metadata": {},
   "outputs": [
    {
     "data": {
      "image/png": "[encoded data removed]",
      "text/plain": [
       "<Figure size 432x288 with 1 Axes>"
      ]
     },
     "metadata": {
      "needs_background": "light"
     },
     "output_type": "display_data"
    }
   ],
   "source": [
    "# plot the scores\n",
    "import matplotlib.pyplot as plt\n",
    "fig = plt.figure()\n",
    "ax = fig.add_subplot(111)\n",
    "plt.plot(np.arange(len(scores_l)), scores_l)\n",
    "plt.ylabel('Score')\n",
    "plt.xlabel('Episode #')\n",
    "plt.show()"
   ]
  },
  {
   "cell_type": "markdown",
   "metadata": {},
   "source": [
    "### Test Agent"
   ]
  },
  {
   "cell_type": "code",
   "execution_count": 119,
   "metadata": {},
   "outputs": [],
   "source": [
    "trained_agent = DDPGAgent(train=False)\n",
    "trained_agent.load('successfull_model')"
   ]
  },
  {
   "cell_type": "code",
   "execution_count": null,
   "metadata": {},
   "outputs": [],
   "source": [
    "from time import sleep\n",
    "nb_games = 10\n",
    "\n",
    "for i_episode in range(nb_games):\n",
    "    env_info = env.reset(train_mode=False)[brain_name]      # reset the environment   \n",
    "    states = (env_info.vector_observations - mean_state) / maxi_state            # get the current state (for each agent)\n",
    "    state_left = states[:1]\n",
    "    state_right = states[1:]\n",
    "\n",
    "    while True:\n",
    "        sleep(0.01)\n",
    "        action_left = trained_agent.act(state_left)         # all actions between -1 and 1\n",
    "        action_right = trained_agent.act(state_right)\n",
    "        actions = np.clip(np.vstack([action_left, action_right]), -1, 1)\n",
    "        env_info = env.step(actions)[brain_name]           # send all actions to tne environment\n",
    "        next_states = (env_info.vector_observations - mean_state) / maxi_state      # get next state (for each agent)\n",
    "\n",
    "\n",
    "        dones = env_info.local_done                        # see if episode finished\n",
    "                             # roll over states to next time step\n",
    "        state_left = next_states[:1]\n",
    "        state_right = next_states[1:]\n",
    "        if np.any(dones):                                  # exit loop if episode finished\n",
    "            break"
   ]
  },
  {
   "cell_type": "code",
   "execution_count": 20,
   "metadata": {},
   "outputs": [],
   "source": [
    "env.close()"
   ]
  }
 ],
 "metadata": {
  "kernelspec": {
   "display_name": "Python 3",
   "language": "python",
   "name": "python3"
  },
  "language_info": {
   "codemirror_mode": {
    "name": "ipython",
    "version": 3
   },
   "file_extension": ".py",
   "mimetype": "text/x-python",
   "name": "python",
   "nbconvert_exporter": "python",
   "pygments_lexer": "ipython3",
   "version": "3.6.13"
  }
 },
 "nbformat": 4,
 "nbformat_minor": 2
}
