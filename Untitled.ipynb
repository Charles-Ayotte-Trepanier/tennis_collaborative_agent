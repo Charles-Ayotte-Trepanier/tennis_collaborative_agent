{
 "cells": [
  {
   "cell_type": "code",
   "execution_count": 1,
   "id": "ea6b10f9",
   "metadata": {},
   "outputs": [],
   "source": [
    "class LinearSchedule:\n",
    "    def __init__(self, start, end=None, steps=None):\n",
    "        if end is None:\n",
    "            end = start\n",
    "            steps = 1\n",
    "        self.inc = (end - start) / float(steps)\n",
    "        self.current = start\n",
    "        self.end = end\n",
    "        if end > start:\n",
    "            self.bound = min\n",
    "        else:\n",
    "            self.bound = max\n",
    "\n",
    "    def __call__(self, steps=1):\n",
    "        val = self.current\n",
    "        self.current = self.bound(self.current + self.inc * steps, self.end)\n",
    "        return val\n"
   ]
  },
  {
   "cell_type": "code",
   "execution_count": 24,
   "id": "e014c1ff",
   "metadata": {},
   "outputs": [],
   "source": [
    "ls = LinearSchedule(1, 0, 100)"
   ]
  },
  {
   "cell_type": "code",
   "execution_count": 25,
   "id": "45faf6e0",
   "metadata": {},
   "outputs": [
    {
     "data": {
      "text/plain": [
       "1"
      ]
     },
     "execution_count": 25,
     "metadata": {},
     "output_type": "execute_result"
    }
   ],
   "source": [
    "ls()"
   ]
  },
  {
   "cell_type": "code",
   "execution_count": 26,
   "id": "7715ab30",
   "metadata": {},
   "outputs": [
    {
     "data": {
      "text/plain": [
       "0.99"
      ]
     },
     "execution_count": 26,
     "metadata": {},
     "output_type": "execute_result"
    }
   ],
   "source": [
    "ls()"
   ]
  },
  {
   "cell_type": "code",
   "execution_count": 27,
   "id": "6cc58cc8",
   "metadata": {},
   "outputs": [
    {
     "data": {
      "text/plain": [
       "0.98"
      ]
     },
     "execution_count": 27,
     "metadata": {},
     "output_type": "execute_result"
    }
   ],
   "source": [
    "ls()"
   ]
  },
  {
   "cell_type": "code",
   "execution_count": 28,
   "id": "7879fc6c",
   "metadata": {},
   "outputs": [
    {
     "data": {
      "text/plain": [
       "0.97"
      ]
     },
     "execution_count": 28,
     "metadata": {},
     "output_type": "execute_result"
    }
   ],
   "source": [
    "ls()"
   ]
  },
  {
   "cell_type": "code",
   "execution_count": null,
   "id": "6da7afee",
   "metadata": {},
   "outputs": [],
   "source": []
  }
 ],
 "metadata": {
  "kernelspec": {
   "display_name": "Python 3",
   "language": "python",
   "name": "python3"
  },
  "language_info": {
   "codemirror_mode": {
    "name": "ipython",
    "version": 3
   },
   "file_extension": ".py",
   "mimetype": "text/x-python",
   "name": "python",
   "nbconvert_exporter": "python",
   "pygments_lexer": "ipython3",
   "version": "3.6.13"
  }
 },
 "nbformat": 4,
 "nbformat_minor": 5
}
